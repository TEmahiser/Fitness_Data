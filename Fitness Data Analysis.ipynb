{
 "cells": [
  {
   "cell_type": "markdown",
   "id": "cbea1ea0",
   "metadata": {},
   "source": [
    "# Fitness Data Set Analysis"
   ]
  },
  {
   "cell_type": "code",
   "execution_count": 2,
   "id": "f63cc041",
   "metadata": {},
   "outputs": [],
   "source": [
    "import pandas as pd\n",
    "import numpy as np\n",
    "import matplotlib.pyplot as plt\n",
    "import seaborn as sns\n",
    "\n"
   ]
  },
  {
   "cell_type": "code",
   "execution_count": 3,
   "id": "4623f883",
   "metadata": {},
   "outputs": [],
   "source": [
    "df = pd.read_csv('workout_data.csv')\n"
   ]
  },
  {
   "cell_type": "code",
   "execution_count": 4,
   "id": "9007c4fb",
   "metadata": {},
   "outputs": [
    {
     "data": {
      "text/plain": [
       "(4224, 14)"
      ]
     },
     "execution_count": 4,
     "metadata": {},
     "output_type": "execute_result"
    }
   ],
   "source": [
    "df.shape"
   ]
  },
  {
   "cell_type": "code",
   "execution_count": 5,
   "id": "88173d26",
   "metadata": {},
   "outputs": [
    {
     "name": "stdout",
     "output_type": "stream",
     "text": [
      "<class 'pandas.core.frame.DataFrame'>\n",
      "RangeIndex: 4224 entries, 0 to 4223\n",
      "Data columns (total 14 columns):\n",
      " #   Column            Non-Null Count  Dtype  \n",
      "---  ------            --------------  -----  \n",
      " 0   Date              4224 non-null   object \n",
      " 1   Workout Name      4224 non-null   object \n",
      " 2   Exercise Name     4224 non-null   object \n",
      " 3   Set Order         4224 non-null   int64  \n",
      " 4   Weight            1924 non-null   float64\n",
      " 5   Weight Unit       1924 non-null   object \n",
      " 6   Reps              4069 non-null   float64\n",
      " 7   RPE               0 non-null      float64\n",
      " 8   Distance          2 non-null      float64\n",
      " 9   Distance Unit     155 non-null    object \n",
      " 10  Seconds           4224 non-null   int64  \n",
      " 11  Notes             64 non-null     object \n",
      " 12  Workout Notes     28 non-null     object \n",
      " 13  Workout Duration  4224 non-null   object \n",
      "dtypes: float64(4), int64(2), object(8)\n",
      "memory usage: 462.1+ KB\n"
     ]
    }
   ],
   "source": [
    "df.info()"
   ]
  },
  {
   "cell_type": "code",
   "execution_count": 9,
   "id": "c1f1d951",
   "metadata": {},
   "outputs": [],
   "source": [
    "mean_value = df['Weight'].mean()\n"
   ]
  },
  {
   "cell_type": "code",
   "execution_count": 10,
   "id": "144e9a51",
   "metadata": {},
   "outputs": [
    {
     "name": "stdout",
     "output_type": "stream",
     "text": [
      "<class 'pandas.core.frame.DataFrame'>\n",
      "RangeIndex: 4224 entries, 0 to 4223\n",
      "Data columns (total 14 columns):\n",
      " #   Column            Non-Null Count  Dtype  \n",
      "---  ------            --------------  -----  \n",
      " 0   Date              4224 non-null   object \n",
      " 1   Workout Name      4224 non-null   object \n",
      " 2   Exercise Name     4224 non-null   object \n",
      " 3   Set Order         4224 non-null   int64  \n",
      " 4   Weight            1924 non-null   float64\n",
      " 5   Weight Unit       1924 non-null   object \n",
      " 6   Reps              4069 non-null   float64\n",
      " 7   RPE               0 non-null      float64\n",
      " 8   Distance          2 non-null      float64\n",
      " 9   Distance Unit     155 non-null    object \n",
      " 10  Seconds           4224 non-null   int64  \n",
      " 11  Notes             64 non-null     object \n",
      " 12  Workout Notes     28 non-null     object \n",
      " 13  Workout Duration  4224 non-null   object \n",
      "dtypes: float64(4), int64(2), object(8)\n",
      "memory usage: 462.1+ KB\n"
     ]
    }
   ],
   "source": [
    "df.info()"
   ]
  },
  {
   "cell_type": "code",
   "execution_count": 11,
   "id": "0333b7bb",
   "metadata": {},
   "outputs": [],
   "source": [
    "mean_value = df['Weight'].mean()"
   ]
  },
  {
   "cell_type": "code",
   "execution_count": null,
   "id": "4799e1a7",
   "metadata": {},
   "outputs": [],
   "source": []
  }
 ],
 "metadata": {
  "kernelspec": {
   "display_name": "Python 3 (ipykernel)",
   "language": "python",
   "name": "python3"
  },
  "language_info": {
   "codemirror_mode": {
    "name": "ipython",
    "version": 3
   },
   "file_extension": ".py",
   "mimetype": "text/x-python",
   "name": "python",
   "nbconvert_exporter": "python",
   "pygments_lexer": "ipython3",
   "version": "3.11.4"
  }
 },
 "nbformat": 4,
 "nbformat_minor": 5
}
