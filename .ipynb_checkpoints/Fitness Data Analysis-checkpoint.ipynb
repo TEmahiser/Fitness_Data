{
 "cells": [
  {
   "cell_type": "markdown",
   "id": "cbea1ea0",
   "metadata": {},
   "source": [
    "# Fitness Data Set Analysis"
   ]
  },
  {
   "cell_type": "markdown",
   "id": "7d652f1b",
   "metadata": {},
   "source": [
    "This project is me learning how to use python for data analysis in Jupyter Notebooks. This data set is my own data from a few months of working out using the *Strong* app. The data was exported to csv. I'm working on becoming a personal trainer, and the ability to analyze, display and predict outcomes based on fitness data would be very valueable to me personally. \n",
    "\n",
    "This data set is scattered, as I was trying to lock in a workout program. Other challenges include iconsistent workout names, infrequent workouts and there isn't that much data in the file. "
   ]
  },
  {
   "cell_type": "code",
   "execution_count": 3,
   "id": "f63cc041",
   "metadata": {},
   "outputs": [],
   "source": [
    "#import libraries\n",
    "\n",
    "import pandas as pd\n",
    "import numpy as np\n",
    "import matplotlib.pyplot as plt\n",
    "import seaborn as sns\n",
    "\n"
   ]
  },
  {
   "cell_type": "code",
   "execution_count": 4,
   "id": "4623f883",
   "metadata": {},
   "outputs": [],
   "source": [
    "#import my workout data csv called \"Workout_Data\"\n",
    "df = pd.read_csv('workout_data.csv')\n"
   ]
  },
  {
   "cell_type": "code",
   "execution_count": 5,
   "id": "9007c4fb",
   "metadata": {},
   "outputs": [
    {
     "data": {
      "text/plain": [
       "(4224, 14)"
      ]
     },
     "execution_count": 5,
     "metadata": {},
     "output_type": "execute_result"
    }
   ],
   "source": [
    "#this command tells me how many columns and rows make up the data set. \n",
    "df.shape"
   ]
  },
  {
   "cell_type": "code",
   "execution_count": 6,
   "id": "4799e1a7",
   "metadata": {},
   "outputs": [
    {
     "data": {
      "text/html": [
       "<div>\n",
       "<style scoped>\n",
       "    .dataframe tbody tr th:only-of-type {\n",
       "        vertical-align: middle;\n",
       "    }\n",
       "\n",
       "    .dataframe tbody tr th {\n",
       "        vertical-align: top;\n",
       "    }\n",
       "\n",
       "    .dataframe thead th {\n",
       "        text-align: right;\n",
       "    }\n",
       "</style>\n",
       "<table border=\"1\" class=\"dataframe\">\n",
       "  <thead>\n",
       "    <tr style=\"text-align: right;\">\n",
       "      <th></th>\n",
       "      <th>Date</th>\n",
       "      <th>Workout Name</th>\n",
       "      <th>Exercise Name</th>\n",
       "      <th>Set Order</th>\n",
       "      <th>Weight</th>\n",
       "      <th>Weight Unit</th>\n",
       "      <th>Reps</th>\n",
       "      <th>RPE</th>\n",
       "      <th>Distance</th>\n",
       "      <th>Distance Unit</th>\n",
       "      <th>Seconds</th>\n",
       "      <th>Notes</th>\n",
       "      <th>Workout Notes</th>\n",
       "      <th>Workout Duration</th>\n",
       "    </tr>\n",
       "  </thead>\n",
       "  <tbody>\n",
       "    <tr>\n",
       "      <th>0</th>\n",
       "      <td>2019-09-17 17:52:12</td>\n",
       "      <td>3. Legs</td>\n",
       "      <td>Squat (Smith Machine)</td>\n",
       "      <td>1</td>\n",
       "      <td>90.0</td>\n",
       "      <td>lbs</td>\n",
       "      <td>6.0</td>\n",
       "      <td>NaN</td>\n",
       "      <td>NaN</td>\n",
       "      <td>NaN</td>\n",
       "      <td>0</td>\n",
       "      <td>NaN</td>\n",
       "      <td>NaN</td>\n",
       "      <td>31m</td>\n",
       "    </tr>\n",
       "    <tr>\n",
       "      <th>1</th>\n",
       "      <td>2019-09-17 17:52:12</td>\n",
       "      <td>3. Legs</td>\n",
       "      <td>Squat (Smith Machine)</td>\n",
       "      <td>2</td>\n",
       "      <td>130.0</td>\n",
       "      <td>lbs</td>\n",
       "      <td>5.0</td>\n",
       "      <td>NaN</td>\n",
       "      <td>NaN</td>\n",
       "      <td>NaN</td>\n",
       "      <td>0</td>\n",
       "      <td>NaN</td>\n",
       "      <td>NaN</td>\n",
       "      <td>31m</td>\n",
       "    </tr>\n",
       "    <tr>\n",
       "      <th>2</th>\n",
       "      <td>2019-09-17 17:52:12</td>\n",
       "      <td>3. Legs</td>\n",
       "      <td>Squat (Smith Machine)</td>\n",
       "      <td>3</td>\n",
       "      <td>130.0</td>\n",
       "      <td>lbs</td>\n",
       "      <td>6.0</td>\n",
       "      <td>NaN</td>\n",
       "      <td>NaN</td>\n",
       "      <td>NaN</td>\n",
       "      <td>0</td>\n",
       "      <td>NaN</td>\n",
       "      <td>NaN</td>\n",
       "      <td>31m</td>\n",
       "    </tr>\n",
       "    <tr>\n",
       "      <th>3</th>\n",
       "      <td>2019-09-17 17:52:12</td>\n",
       "      <td>3. Legs</td>\n",
       "      <td>Squat (Smith Machine)</td>\n",
       "      <td>4</td>\n",
       "      <td>140.0</td>\n",
       "      <td>lbs</td>\n",
       "      <td>5.0</td>\n",
       "      <td>NaN</td>\n",
       "      <td>NaN</td>\n",
       "      <td>NaN</td>\n",
       "      <td>0</td>\n",
       "      <td>NaN</td>\n",
       "      <td>NaN</td>\n",
       "      <td>31m</td>\n",
       "    </tr>\n",
       "    <tr>\n",
       "      <th>4</th>\n",
       "      <td>2019-09-17 17:52:12</td>\n",
       "      <td>3. Legs</td>\n",
       "      <td>Leg Press</td>\n",
       "      <td>1</td>\n",
       "      <td>145.0</td>\n",
       "      <td>lbs</td>\n",
       "      <td>6.0</td>\n",
       "      <td>NaN</td>\n",
       "      <td>NaN</td>\n",
       "      <td>NaN</td>\n",
       "      <td>0</td>\n",
       "      <td>NaN</td>\n",
       "      <td>NaN</td>\n",
       "      <td>31m</td>\n",
       "    </tr>\n",
       "  </tbody>\n",
       "</table>\n",
       "</div>"
      ],
      "text/plain": [
       "                  Date Workout Name          Exercise Name  Set Order  Weight  \\\n",
       "0  2019-09-17 17:52:12      3. Legs  Squat (Smith Machine)          1    90.0   \n",
       "1  2019-09-17 17:52:12      3. Legs  Squat (Smith Machine)          2   130.0   \n",
       "2  2019-09-17 17:52:12      3. Legs  Squat (Smith Machine)          3   130.0   \n",
       "3  2019-09-17 17:52:12      3. Legs  Squat (Smith Machine)          4   140.0   \n",
       "4  2019-09-17 17:52:12      3. Legs              Leg Press          1   145.0   \n",
       "\n",
       "  Weight Unit  Reps  RPE  Distance Distance Unit  Seconds Notes Workout Notes  \\\n",
       "0         lbs   6.0  NaN       NaN           NaN        0   NaN           NaN   \n",
       "1         lbs   5.0  NaN       NaN           NaN        0   NaN           NaN   \n",
       "2         lbs   6.0  NaN       NaN           NaN        0   NaN           NaN   \n",
       "3         lbs   5.0  NaN       NaN           NaN        0   NaN           NaN   \n",
       "4         lbs   6.0  NaN       NaN           NaN        0   NaN           NaN   \n",
       "\n",
       "  Workout Duration  \n",
       "0              31m  \n",
       "1              31m  \n",
       "2              31m  \n",
       "3              31m  \n",
       "4              31m  "
      ]
     },
     "execution_count": 6,
     "metadata": {},
     "output_type": "execute_result"
    }
   ],
   "source": [
    "#.head shows me the first 5 rows of this data set.\n",
    "df.head()"
   ]
  },
  {
   "cell_type": "markdown",
   "id": "a407350b",
   "metadata": {},
   "source": [
    "Here I begin my analysis, where I filter the dataset to only those rows that have the workout name \"Pull\", in order to know that there are any workouts with that name at all I used the unique() method to print out the unique workout names in the data. \n",
    "\n",
    "I've always been bad at pullups and wanted to get better at them so my main focus here is pull ups. "
   ]
  },
  {
   "cell_type": "code",
   "execution_count": 21,
   "id": "ea668b78",
   "metadata": {},
   "outputs": [],
   "source": [
    "unique_workoutnames = df[\"Workout Name\"].unique()"
   ]
  },
  {
   "cell_type": "code",
   "execution_count": 22,
   "id": "cc814500",
   "metadata": {},
   "outputs": [],
   "source": [
    "unique_exercises = df[\"Exercise Name\"].unique()"
   ]
  },
  {
   "cell_type": "code",
   "execution_count": 28,
   "id": "91d87106",
   "metadata": {},
   "outputs": [
    {
     "name": "stdout",
     "output_type": "stream",
     "text": [
      "['Squat (Smith Machine)' 'Leg Press' 'Seated Leg Curl (Machine)'\n",
      " 'Seated Calf Raise (Machine)' 'Bench Press (Smith Machine)'\n",
      " 'Incline Bench Press (Smith Machine)' 'Bench Press (Dumbbell)'\n",
      " 'Triceps Extension (Dumbbell)' 'Crunch' 'Pull Up'\n",
      " 'Bent Over One Arm Row (Dumbbell)' 'Lat Pulldown - Wide Grip (Cable)'\n",
      " 'Bicep Curl (Barbell)' 'Calf Press on Leg Press'\n",
      " 'Leg Extension (Machine)' 'Sit Up' 'Bicep Curl (Dumbbell)'\n",
      " 'Hanging Knee Raise' 'Squat (Bodyweight)' 'Jump Squat'\n",
      " 'Lunge (Bodyweight)' 'Glute Ham Raise' 'Burpee' 'Push Up' 'Pike Press'\n",
      " 'Chest Dip' 'Chin Up' 'Bicycle Crunch' 'Plank' 'Bulgarian Split Squat'\n",
      " 'Shrimp Squat' 'Kettlebell Swing' 'Bridge' 'Arnold Press (Dumbbell)'\n",
      " 'Lunge (Dumbbell)' 'Kb carry' 'Inverted Row (Bodyweight)'\n",
      " 'Kettlebell Press' 'Russian Twist' 'Hollow Body Hold'\n",
      " 'Goblet Squat (Kettlebell)' 'Suit case carry' 'Reverse Crunch'\n",
      " 'Side Bend (Dumbbell)' 'Side Plank' 'Wide Pull Up' 'KB lateral Raise'\n",
      " 'Bent Over Row (Dumbbell)' 'Waiter Curl' 'Superman'\n",
      " 'Romanian Deadlift (Dumbbell)' 'Plank ups ' 'Hip Thrust (Barbell)'\n",
      " 'Oblique Crunch' 'Shoulder Halo' 'Jumping Jack' 'Bench Dip'\n",
      " 'KB Stand Ups' 'Jump Rope' 'Diamond Push Up' 'Push Up (Band)'\n",
      " 'Single arm kettlebell Row' 'Gorilla Row' 'Deadlift (Dumbbell)'\n",
      " 'Ab Wheel' 'KB deadlift ' 'kb squat' 'Knees to Elbows' 'Running'\n",
      " 'Toes To Bar' 'L Sit ' 'Kettlebell Turkish Get Up'\n",
      " 'Crunch (Stability Ball)' 'Concentration Curl (Dumbbell)' 'Cossack Squat'\n",
      " 'Hip Thrust (Bodyweight)' 'Kettlebell Snatch' 'Kb clean and jerk'\n",
      " 'Lateral Raise (Dumbbell)' 'Front Raise (Dumbbell)' 'one arm pushup'\n",
      " 'Pistol Squat'] ......... ['3. Legs' '1. Push and Core' '2. Pull and Calves' 'Pull'\n",
      " 'Lower Body and Cardio' 'Upper Body and Core' 'Morning Workout'\n",
      " 'Evening Workout' 'Afternoon Workout' 'Full Body Circuit' 'Full Body'\n",
      " 'Core' 'Upper Body' 'Legs and Core' 'Midday Workout' 'Full Body Thrash']\n"
     ]
    }
   ],
   "source": [
    "print(unique_exercises, \".........\", unique_workoutnames)"
   ]
  },
  {
   "cell_type": "code",
   "execution_count": 32,
   "id": "4e8a3b0d",
   "metadata": {},
   "outputs": [],
   "source": [
    "pullup_subset = df[df['Exercise Name']=='Pull Up']\n",
    "chinup_subset = df[df['Exercise Name'] == 'Chin Up']"
   ]
  },
  {
   "cell_type": "code",
   "execution_count": 33,
   "id": "bb4f4940",
   "metadata": {},
   "outputs": [
    {
     "name": "stdout",
     "output_type": "stream",
     "text": [
      "                     Date        Workout Name Exercise Name  Set Order  \\\n",
      "30    2019-09-23 17:31:42  2. Pull and Calves       Pull Up          1   \n",
      "31    2019-09-23 17:31:42  2. Pull and Calves       Pull Up          2   \n",
      "32    2019-09-23 17:31:42  2. Pull and Calves       Pull Up          3   \n",
      "73    2019-09-29 11:54:39                Pull       Pull Up          1   \n",
      "74    2019-09-29 11:54:39                Pull       Pull Up          2   \n",
      "...                   ...                 ...           ...        ...   \n",
      "2530  2021-02-27 17:21:59   Afternoon Workout       Pull Up          1   \n",
      "2531  2021-02-27 17:21:59   Afternoon Workout       Pull Up          2   \n",
      "2532  2021-02-27 17:21:59   Afternoon Workout       Pull Up          3   \n",
      "4085  2021-10-18 20:26:23    Full Body Thrash       Pull Up          1   \n",
      "4086  2021-10-18 20:26:23    Full Body Thrash       Pull Up          2   \n",
      "\n",
      "      Weight Weight Unit  Reps  RPE  Distance Distance Unit  Seconds Notes  \\\n",
      "30       NaN         NaN   6.0  NaN       NaN           NaN        0   NaN   \n",
      "31       NaN         NaN   6.0  NaN       NaN           NaN        0   NaN   \n",
      "32       NaN         NaN   5.0  NaN       NaN           NaN        0   NaN   \n",
      "73       NaN         NaN   6.0  NaN       NaN           NaN        0   NaN   \n",
      "74       NaN         NaN   4.0  NaN       NaN           NaN        0   NaN   \n",
      "...      ...         ...   ...  ...       ...           ...      ...   ...   \n",
      "2530     NaN         NaN   6.0  NaN       NaN           NaN        0   NaN   \n",
      "2531     NaN         NaN   4.0  NaN       NaN           NaN        0   NaN   \n",
      "2532     NaN         NaN   5.0  NaN       NaN           NaN        0   NaN   \n",
      "4085     0.0         lbs   5.0  NaN       NaN           NaN        0   NaN   \n",
      "4086     0.0         lbs   5.0  NaN       NaN           NaN        0   NaN   \n",
      "\n",
      "     Workout Notes Workout Duration  \n",
      "30             NaN              34m  \n",
      "31             NaN              34m  \n",
      "32             NaN              34m  \n",
      "73             NaN              41m  \n",
      "74             NaN              41m  \n",
      "...            ...              ...  \n",
      "2530           NaN              44m  \n",
      "2531           NaN              44m  \n",
      "2532           NaN              44m  \n",
      "4085           NaN              33m  \n",
      "4086           NaN              33m  \n",
      "\n",
      "[133 rows x 14 columns]                      Date         Workout Name Exercise Name  Set Order  \\\n",
      "112   2020-05-14 17:06:44  Upper Body and Core       Chin Up          1   \n",
      "113   2020-05-14 17:06:44  Upper Body and Core       Chin Up          2   \n",
      "114   2020-05-14 17:06:44  Upper Body and Core       Chin Up          3   \n",
      "115   2020-05-14 17:06:44  Upper Body and Core       Chin Up          4   \n",
      "116   2020-05-14 17:06:44  Upper Body and Core       Chin Up          5   \n",
      "...                   ...                  ...           ...        ...   \n",
      "4056  2021-09-22 17:24:33           Upper Body       Chin Up          2   \n",
      "4057  2021-09-22 17:24:33           Upper Body       Chin Up          3   \n",
      "4075  2021-10-11 16:50:35           Upper Body       Chin Up          1   \n",
      "4076  2021-10-11 16:50:35           Upper Body       Chin Up          2   \n",
      "4077  2021-10-11 16:50:35           Upper Body       Chin Up          3   \n",
      "\n",
      "      Weight Weight Unit  Reps  RPE  Distance Distance Unit  Seconds  \\\n",
      "112      NaN         NaN   7.0  NaN       NaN           NaN        0   \n",
      "113      NaN         NaN   4.0  NaN       NaN           NaN        0   \n",
      "114      NaN         NaN   4.0  NaN       NaN           NaN        0   \n",
      "115      NaN         NaN   4.0  NaN       NaN           NaN        0   \n",
      "116      NaN         NaN   3.0  NaN       NaN           NaN        0   \n",
      "...      ...         ...   ...  ...       ...           ...      ...   \n",
      "4056    35.0         lbs   4.0  NaN       NaN           NaN        0   \n",
      "4057    35.0         lbs   3.0  NaN       NaN           NaN        0   \n",
      "4075     0.0         lbs   9.0  NaN       NaN           NaN        0   \n",
      "4076     0.0         lbs   5.0  NaN       NaN           NaN        0   \n",
      "4077     0.0         lbs   4.0  NaN       NaN           NaN        0   \n",
      "\n",
      "            Notes Workout Notes Workout Duration  \n",
      "112   To failure            NaN              49m  \n",
      "113           NaN           NaN              49m  \n",
      "114           NaN           NaN              49m  \n",
      "115           NaN           NaN              49m  \n",
      "116           NaN           NaN              49m  \n",
      "...           ...           ...              ...  \n",
      "4056          NaN           NaN           1h 14m  \n",
      "4057          NaN           NaN           1h 14m  \n",
      "4075          NaN           NaN              26m  \n",
      "4076          NaN           NaN              26m  \n",
      "4077          NaN           NaN              26m  \n",
      "\n",
      "[305 rows x 14 columns]\n"
     ]
    }
   ],
   "source": [
    "print(pullup_subset, chinup_subset)"
   ]
  },
  {
   "cell_type": "code",
   "execution_count": 39,
   "id": "b4413ded",
   "metadata": {},
   "outputs": [
    {
     "name": "stdout",
     "output_type": "stream",
     "text": [
      "My maximum pullups is 14.0 and my maximum chinups is 13.0\n"
     ]
    }
   ],
   "source": [
    "max_pullups = pullup_subset['Reps'].max()\n",
    "max_chinups = chinup_subset['Reps'].max()\n",
    "print('My maximum pullups is',max_pullups,'and my maximum chinups is', max_chinups )\n"
   ]
  },
  {
   "cell_type": "code",
   "execution_count": 49,
   "id": "7ca65dcf",
   "metadata": {},
   "outputs": [
    {
     "data": {
      "image/png": "[encoded data removed]",
      "text/plain": [
       "<Figure size 640x480 with 1 Axes>"
      ]
     },
     "metadata": {},
     "output_type": "display_data"
    }
   ],
   "source": [
    "#Data Visualization\n",
    "\n",
    "column_name = 'Reps'\n",
    "column_values = pullup_subset[column_name]\n",
    "\n",
    "x_labels = np.arange(0, len(column_values), step=10)\n",
    "x_values = column_values.index[x_labels]\n",
    "\n",
    "plt.bar(range(len(column_values)),column_values,tick_label = pullup_subset.index)\n",
    "plt.xlabel('Index')\n",
    "plt.ylabel('Values')\n",
    "plt.title(f'Data in Column \"{column_name}\"')\n",
    "plt.show()"
   ]
  },
  {
   "cell_type": "code",
   "execution_count": null,
   "id": "9f202009",
   "metadata": {},
   "outputs": [],
   "source": []
  }
 ],
 "metadata": {
  "kernelspec": {
   "display_name": "Python 3 (ipykernel)",
   "language": "python",
   "name": "python3"
  },
  "language_info": {
   "codemirror_mode": {
    "name": "ipython",
    "version": 3
   },
   "file_extension": ".py",
   "mimetype": "text/x-python",
   "name": "python",
   "nbconvert_exporter": "python",
   "pygments_lexer": "ipython3",
   "version": "3.11.4"
  }
 },
 "nbformat": 4,
 "nbformat_minor": 5
}
